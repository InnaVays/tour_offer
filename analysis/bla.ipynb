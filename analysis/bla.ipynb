{
 "cells": [
  {
   "cell_type": "code",
   "execution_count": null,
   "metadata": {
    "vscode": {
     "languageId": "plaintext"
    }
   },
   "outputs": [],
   "source": [
    "import pandas as pd\n",
    "import numpy as np\n",
    "import matplotlib.pyplot as plt\n",
    "import seaborn as sns\n",
    "from scipy.stats import ttest_ind, norm"
   ]
  },
  {
   "cell_type": "code",
   "execution_count": null,
   "metadata": {
    "vscode": {
     "languageId": "plaintext"
    }
   },
   "outputs": [],
   "source": [
    "# Load dataset\n",
    "df = pd.read_csv(\"../data/processed_experiment_results.csv\")\n",
    "\n",
    "# Overview of Data\n",
    "print(\"\\n Info:\")\n",
    "print(df.info())\n",
    "\n",
    "print(\"\\n Summary Statistics:\")\n",
    "print(df.describe())"
   ]
  },
  {
   "cell_type": "code",
   "execution_count": null,
   "metadata": {
    "vscode": {
     "languageId": "plaintext"
    }
   },
   "outputs": [],
   "source": [
    "# Overall summary statistics\n",
    "summary_stats = df.groupby(\"strategy\").agg(\n",
    "    clicks_mean=(\"clicks\", \"mean\"),\n",
    "    clicks_median=(\"clicks\", \"median\"),\n",
    "    interest_mean=(\"high_interest\", \"mean\"),\n",
    "    interest_median=(\"high_interest\", \"median\"),\n",
    "    session_length_mean=(\"session_length\", \"mean\"),\n",
    "    session_length_median=(\"session_length\", \"median\"),\n",
    "    count=(\"session_id\", \"count\")\n",
    ")\n",
    "\n",
    "# Show summary statistics\n",
    "summary_stats"
   ]
  },
  {
   "cell_type": "code",
   "execution_count": null,
   "metadata": {
    "vscode": {
     "languageId": "plaintext"
    }
   },
   "outputs": [],
   "source": [
    "# Clicks Distribution by Strategy\n",
    "plt.figure(figsize=(9,3))\n",
    "sns.boxplot(data=df, x=\"strategy\", y=\"clicks\")\n",
    "plt.title(\"Clicks Distribution by Strategy\")\n",
    "plt.show()"
   ]
  },
  {
   "cell_type": "code",
   "execution_count": null,
   "metadata": {
    "vscode": {
     "languageId": "plaintext"
    }
   },
   "outputs": [],
   "source": [
    "# Interest Actions by Strategy\n",
    "plt.figure(figsize=(9,3))\n",
    "sns.boxplot(data=df, x=\"strategy\", y=\"high_interest\")\n",
    "plt.title(\"Interest Actions by Strategy\")\n",
    "plt.show()"
   ]
  },
  {
   "cell_type": "code",
   "execution_count": null,
   "metadata": {
    "vscode": {
     "languageId": "plaintext"
    }
   },
   "outputs": [],
   "source": [
    "# Session Length Distribution\n",
    "plt.figure(figsize=(9,3))\n",
    "sns.boxplot(data=df, x=\"strategy\", y=\"session_length\")\n",
    "plt.title(\"Session Length by Strategy\")\n",
    "plt.show()"
   ]
  },
  {
   "cell_type": "markdown",
   "metadata": {},
   "source": [
    "## AB Test (against strategy_0)"
   ]
  },
  {
   "cell_type": "code",
   "execution_count": null,
   "metadata": {
    "vscode": {
     "languageId": "plaintext"
    }
   },
   "outputs": [],
   "source": [
    "def run_z_test(group1, group2, metric):\n",
    "    # Compute means and standard deviations\n",
    "    x1, x2 = df[df[\"strategy\"] == group1][metric].mean(), df[df[\"strategy\"] == group2][metric].mean()\n",
    "    s1, s2 = df[df[\"strategy\"] == group1][metric].std(), df[df[\"strategy\"] == group2][metric].std()\n",
    "    n1, n2 = df[df[\"strategy\"] == group1][metric].count(), df[df[\"strategy\"] == group2][metric].count()\n",
    "\n",
    "    # Compute Z-score\n",
    "    se = np.sqrt((s1**2 / n1) + (s2**2 / n2))\n",
    "    z_score = (x1 - x2) / se\n",
    "    p_value = 2 * (1 - norm.cdf(abs(z_score)))  # Two-tailed test\n",
    "\n",
    "    return z_score, p_value\n",
    "\n",
    "def run_t_test(group1, group2, metric):\n",
    "    stat, p_value = ttest_ind(df[df[\"strategy\"] == group1][metric], \n",
    "                              df[df[\"strategy\"] == group2][metric], \n",
    "                              equal_var=False)\n",
    "    return stat, p_value"
   ]
  },
  {
   "cell_type": "code",
   "execution_count": null,
   "metadata": {
    "vscode": {
     "languageId": "plaintext"
    }
   },
   "outputs": [],
   "source": []
  },
  {
   "cell_type": "code",
   "execution_count": null,
   "metadata": {
    "vscode": {
     "languageId": "plaintext"
    }
   },
   "outputs": [],
   "source": [
    "# Run T-tests on key metrics\n",
    "metrics = [\"clicks\", \"high_interest\", \"session_length\"]\n",
    "for metric in metrics:\n",
    "    stat, p = run_t_test(\"strategy_0\", \"strategy_A\", metric)\n",
    "    print(f\"T-test for {metric}: t-stat={stat}, p-value={p}\")\n",
    "\n",
    "# Run Z-tests\n",
    "for metric in metrics:\n",
    "    z, p = run_z_test(\"strategy_0\", \"strategy_A\", metric)\n",
    "    print(f\"Z-test for {metric}: z-score={z}, p-value={p}\")"
   ]
  }
 ],
 "metadata": {
  "language_info": {
   "name": "python"
  }
 },
 "nbformat": 4,
 "nbformat_minor": 2
}

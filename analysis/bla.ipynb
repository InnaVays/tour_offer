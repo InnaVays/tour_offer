{
 "cells": [
  {
   "cell_type": "code",
   "execution_count": null,
   "metadata": {
    "vscode": {
     "languageId": "plaintext"
    }
   },
   "outputs": [],
   "source": [
    "import pandas as pd\n",
    "import numpy as np\n",
    "import matplotlib.pyplot as plt\n",
    "import seaborn as sns\n",
    "from scipy.stats import ttest_ind, norm"
   ]
  },
  {
   "cell_type": "code",
   "execution_count": null,
   "metadata": {
    "vscode": {
     "languageId": "plaintext"
    }
   },
   "outputs": [],
   "source": [
    "# Load dataset\n",
    "df = pd.read_csv(\"../data/processed_experiment_results.csv\")\n",
    "\n",
    "# Overview of Data\n",
    "print(\"\\n Info:\")\n",
    "print(df.info())\n",
    "\n",
    "print(\"\\n Summary Statistics:\")\n",
    "print(df.describe())"
   ]
  },
  {
   "cell_type": "code",
   "execution_count": null,
   "metadata": {
    "vscode": {
     "languageId": "plaintext"
    }
   },
   "outputs": [],
   "source": [
    "# Overall summary statistics\n",
    "summary_stats = df.groupby(\"strategy\").agg(\n",
    "    clicks_mean=(\"clicks\", \"mean\"),\n",
    "    clicks_median=(\"clicks\", \"median\"),\n",
    "    interest_mean=(\"high_interest\", \"mean\"),\n",
    "    interest_median=(\"high_interest\", \"median\"),\n",
    "    session_length_mean=(\"session_length\", \"mean\"),\n",
    "    session_length_median=(\"session_length\", \"median\"),\n",
    "    count=(\"session_id\", \"count\")\n",
    ")\n",
    "\n",
    "# Show summary statistics\n",
    "summary_stats"
   ]
  },
  {
   "cell_type": "code",
   "execution_count": null,
   "metadata": {
    "vscode": {
     "languageId": "plaintext"
    }
   },
   "outputs": [],
   "source": [
    "# Clicks Distribution by Strategy\n",
    "plt.figure(figsize=(9,3))\n",
    "sns.boxplot(data=df, x=\"strategy\", y=\"clicks\")\n",
    "plt.title(\"Clicks Distribution by Strategy\")\n",
    "plt.show()"
   ]
  },
  {
   "cell_type": "code",
   "execution_count": null,
   "metadata": {
    "vscode": {
     "languageId": "plaintext"
    }
   },
   "outputs": [],
   "source": [
    "# Interest Actions by Strategy\n",
    "plt.figure(figsize=(9,3))\n",
    "sns.boxplot(data=df, x=\"strategy\", y=\"high_interest\")\n",
    "plt.title(\"Interest Actions by Strategy\")\n",
    "plt.show()"
   ]
  },
  {
   "cell_type": "code",
   "execution_count": null,
   "metadata": {
    "vscode": {
     "languageId": "plaintext"
    }
   },
   "outputs": [],
   "source": [
    "# Session Length Distribution\n",
    "plt.figure(figsize=(9,3))\n",
    "sns.boxplot(data=df, x=\"strategy\", y=\"session_length\")\n",
    "plt.title(\"Session Length by Strategy\")\n",
    "plt.show()"
   ]
  },
  {
   "cell_type": "markdown",
   "metadata": {},
   "source": [
    "## AA Test (Comparing Against strategy_0)"
   ]
  }
 ],
 "metadata": {
  "language_info": {
   "name": "python"
  }
 },
 "nbformat": 4,
 "nbformat_minor": 2
}
